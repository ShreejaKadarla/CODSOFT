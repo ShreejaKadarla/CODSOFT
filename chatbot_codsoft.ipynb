{
  "nbformat": 4,
  "nbformat_minor": 0,
  "metadata": {
    "colab": {
      "provenance": []
    },
    "kernelspec": {
      "name": "python3",
      "display_name": "Python 3"
    },
    "language_info": {
      "name": "python"
    }
  },
  "cells": [
    {
      "cell_type": "code",
      "source": [
        "import random\n",
        "\n",
        "def chatbot_reply(user_input):\n",
        "\n",
        "    user_input = user_input.lower()\n",
        "\n",
        "\n",
        "\n",
        "    if \"hello!\" in user_input or \"hi\" in user_input:\n",
        "\n",
        "        return random.choice([\"Hi there!\"])\n",
        "\n",
        "\n",
        "\n",
        "    elif \"how are you?\" in user_input:\n",
        "\n",
        "        return random.choice([\"I'm good! How about you?\",])\n",
        "\n",
        "\n",
        "\n",
        "    elif \"what is your name?\" in user_input:\n",
        "\n",
        "        return \"I am chatbot\"\n",
        "\n",
        "\n",
        "\n",
        "    elif \"who created you?\" in user_input:\n",
        "\n",
        "        return \"I was created by Shreeja\"\n",
        "\n",
        "\n",
        "\n",
        "    elif \"your favourite colour?\" in user_input:\n",
        "\n",
        "        return random.choice([\"Green\",\n",
        "\n",
        "                              \"Blue\"])\n",
        "\n",
        "\n",
        "\n",
        "    elif \"bye\" in user_input:\n",
        "\n",
        "        return \"bye,Have a great day!\"\n",
        "\n",
        "\n",
        "\n",
        "    else:\n",
        "\n",
        "        return \"I'm not sure about that. Can you ask me something else?\"\n",
        "\n",
        "print(\"Chatbot: Hello! Type something to chat. Type 'bye' to exit.\")\n",
        "\n",
        "while True:\n",
        "\n",
        "    user_message = input(\"You: \")\n",
        "\n",
        "    if user_message.lower() == \"bye\":\n",
        "\n",
        "        print(\"Chatbot: Have a great day!\")\n",
        "\n",
        "        break\n",
        "\n",
        "    else:\n",
        "\n",
        "        print(\"Chatbot:\", chatbot_reply(user_message))"
      ],
      "metadata": {
        "colab": {
          "base_uri": "https://localhost:8080/"
        },
        "id": "O6jR5rNFgpOl",
        "outputId": "27abc882-660c-415f-b348-fa4cda40998d"
      },
      "execution_count": 4,
      "outputs": [
        {
          "output_type": "stream",
          "name": "stdout",
          "text": [
            "Chatbot: Hello! Type something to chat. Type 'bye' to exit.\n",
            "You: hi\n",
            "Chatbot: Hi there!\n",
            "You: how are you?\n",
            "Chatbot: I'm good! How about you?\n",
            "You: what is your name?\n",
            "Chatbot: I am chatbot\n",
            "You: who created you?\n",
            "Chatbot: I was created by Shreeja\n",
            "You: your favourite colour?\n",
            "Chatbot: Green\n",
            "You: bye\n",
            "Chatbot: Have a great day!\n"
          ]
        }
      ]
    }
  ]
}
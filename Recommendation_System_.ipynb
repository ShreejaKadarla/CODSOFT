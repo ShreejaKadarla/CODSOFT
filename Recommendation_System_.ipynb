{
  "nbformat": 4,
  "nbformat_minor": 0,
  "metadata": {
    "colab": {
      "provenance": []
    },
    "kernelspec": {
      "name": "python3",
      "display_name": "Python 3"
    },
    "language_info": {
      "name": "python"
    }
  },
  "cells": [
    {
      "cell_type": "code",
      "execution_count": null,
      "metadata": {
        "colab": {
          "base_uri": "https://localhost:8080/"
        },
        "id": "2tzaG5BWDnpH",
        "outputId": "d1ef32db-c887-432b-fd40-057f523fb601"
      },
      "outputs": [
        {
          "output_type": "stream",
          "name": "stdout",
          "text": [
            "Enter the user name (User1, User2, User3): User2\n",
            "Recommended movie for User2: Movie2\n"
          ]
        }
      ],
      "source": [
        "user_ratings = {\n",
        "    'User1': {'Movie1': 5, 'Movie2': 3, 'Movie3': 0, 'Movie4': 1, 'Movie5': 4},\n",
        "    'User2': {'Movie1': 4, 'Movie2': 0, 'Movie3': 3, 'Movie4': 2, 'Movie5': 5},\n",
        "    'User3': {'Movie1': 3, 'Movie2': 5, 'Movie3': 0, 'Movie4': 1, 'Movie5': 4}\n",
        "}\n",
        "def recommend_movie(user):\n",
        "    # Get the movies the user hasn't rated yet\n",
        "    unrated_movies = [movie for movie, rating in user_ratings[user].items() if rating == 0]\n",
        "\n",
        "    if not unrated_movies:\n",
        "        return \"No recommendations available, all movies are rated.\"\n",
        "\n",
        "    # Just pick the first unrated movie as recommendation\n",
        "    return unrated_movies[0]\n",
        "user_input = input(\"Enter the user name (User1, User2, User3): \")\n",
        "if user_input in user_ratings:\n",
        "    # Get the movie recommendation\n",
        "    recommended_movie = recommend_movie(user_input)\n",
        "    print(f\"Recommended movie for {user_input}: {recommended_movie}\")\n",
        "else:\n",
        "    print(\"Invalid user name entered. Please choose User1, User2, or User3.\")\n"
      ]
    }
  ]
}